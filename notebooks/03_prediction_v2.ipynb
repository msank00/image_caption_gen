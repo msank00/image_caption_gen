{
 "cells": [
  {
   "cell_type": "code",
   "execution_count": 1,
   "metadata": {},
   "outputs": [],
   "source": [
    "%load_ext autoreload\n",
    "%autoreload 2"
   ]
  },
  {
   "cell_type": "code",
   "execution_count": 2,
   "metadata": {},
   "outputs": [],
   "source": [
    "import sys\n",
    "sys.path.append(\".\")"
   ]
  },
  {
   "cell_type": "markdown",
   "metadata": {},
   "source": [
    "# Pick random test image"
   ]
  },
  {
   "cell_type": "code",
   "execution_count": 36,
   "metadata": {},
   "outputs": [],
   "source": [
    "from src.utils import get_training_data\n",
    "import numpy as np\n",
    "import shutil"
   ]
  },
  {
   "cell_type": "code",
   "execution_count": 21,
   "metadata": {},
   "outputs": [
    {
     "name": "stderr",
     "output_type": "stream",
     "text": [
      "/home/sankarshan/Documents/code/image_captioning/src/utils.py:11: YAMLLoadWarning: calling yaml.load() without Loader=... is deprecated, as the default Loader is unsafe. Please read https://msg.pyyaml.org/load for full details.\n",
      "  config = yaml.load(f,) #Loader=yaml.FullLoader\n"
     ]
    }
   ],
   "source": [
    "config = Config(\"config.yaml\")"
   ]
  },
  {
   "cell_type": "code",
   "execution_count": 22,
   "metadata": {},
   "outputs": [],
   "source": [
    "df = get_training_data(config.IMAGE_ID_FILE_TEST, config.CAPTION_FILE)"
   ]
  },
  {
   "cell_type": "code",
   "execution_count": 50,
   "metadata": {},
   "outputs": [],
   "source": [
    "def pick_random_test_image(df):\n",
    "    idx = np.random.randint(low=0, high=len(df))\n",
    "    image_id = df.iloc[idx][\"IMAGE_ID\"]\n",
    "    caption = df.iloc[idx][\"CAPTION\"]\n",
    "    return image_id, caption\n",
    "\n",
    "\n",
    "def copy_file_to_correct_folder(image_id: str):\n",
    "    file_src_path = f\"{config.IMAGE_DATA_DIR}{image_id}\"\n",
    "    file_destination_path = f\"asset/test_image/{image_id}\"\n",
    "    shutil.copy(file_src_path, file_destination_path)"
   ]
  },
  {
   "cell_type": "code",
   "execution_count": 51,
   "metadata": {},
   "outputs": [],
   "source": [
    "image_id, caption = pick_random_test_image(df)"
   ]
  },
  {
   "cell_type": "code",
   "execution_count": 52,
   "metadata": {},
   "outputs": [],
   "source": [
    "copy_file_to_correct_folder(image_id)"
   ]
  },
  {
   "cell_type": "code",
   "execution_count": 53,
   "metadata": {},
   "outputs": [
    {
     "data": {
      "text/plain": [
       "'An elderly woman rides a bicycle along a city street .'"
      ]
     },
     "execution_count": 53,
     "metadata": {},
     "output_type": "execute_result"
    }
   ],
   "source": [
    "caption"
   ]
  },
  {
   "cell_type": "markdown",
   "metadata": {},
   "source": [
    "# TODO:\n",
    "\n",
    "- [ ] Pick random 10-20 test image and available `ground truth` caption.\n",
    "- [ ] Generate prediction and create a simple table:\n",
    "  - IMAGE_ID | TRUE_CAPTION | PRED_CAPTION    \n",
    "- [ ] Evaluate prediction manually"
   ]
  },
  {
   "cell_type": "code",
   "execution_count": null,
   "metadata": {},
   "outputs": [],
   "source": []
  }
 ],
 "metadata": {
  "kernelspec": {
   "display_name": "Python (py36)",
   "language": "python",
   "name": "py36"
  },
  "language_info": {
   "codemirror_mode": {
    "name": "ipython",
    "version": 3
   },
   "file_extension": ".py",
   "mimetype": "text/x-python",
   "name": "python",
   "nbconvert_exporter": "python",
   "pygments_lexer": "ipython3",
   "version": "3.6.9"
  }
 },
 "nbformat": 4,
 "nbformat_minor": 4
}
