{
 "cells": [
  {
   "cell_type": "code",
   "execution_count": 1,
   "metadata": {},
   "outputs": [],
   "source": [
    "%load_ext autoreload\n",
    "%autoreload 2"
   ]
  },
  {
   "cell_type": "code",
   "execution_count": 2,
   "metadata": {},
   "outputs": [],
   "source": [
    "import sys\n",
    "sys.path.append(\".\")"
   ]
  },
  {
   "cell_type": "code",
   "execution_count": 11,
   "metadata": {},
   "outputs": [],
   "source": [
    "from torchvision import transforms\n",
    "from torch.utils.data import DataLoader\n",
    "from src.data_loader import get_data_loader\n",
    "from src.utils import Config\n",
    "\n",
    "from PIL import Image\n",
    "import numpy as np\n",
    "\n",
    "import os\n",
    "import torch\n",
    "from src.model import EncoderCNN, DecoderRNN"
   ]
  },
  {
   "cell_type": "code",
   "execution_count": 18,
   "metadata": {},
   "outputs": [],
   "source": [
    "def predict_image_caption(image_file: str, \n",
    "                          transform_image: transforms, \n",
    "                          test_data_loader: DataLoader,\n",
    "                          model_encoder: EncoderCNN,\n",
    "                          model_decoder: DecoderRNN, \n",
    "                          device):\n",
    "    \n",
    "    assert os.path.exists(image_file), f\"Image file: '{image_file}' doesn't not exist.\"\n",
    "    PIL_image = Image.open(image_file).convert(\"RGB\")\n",
    "    transformed_image = transform_image(PIL_image)  \n",
    "    transformed_image = transformed_image.to(device)\n",
    "    transformed_image = transformed_image.unsqueeze(dim=0) # convert size [3, 224, 224] -> [1, 3, 224, 224]\n",
    "    features = model_encoder(transformed_image).unsqueeze(1)\n",
    "    output = model_decoder.predict_token_ids(features)    \n",
    "    sentence = process_predicted_tokens(output, test_data_loader)\n",
    "    \n",
    "    return sentence\n",
    "\n",
    "def process_predicted_tokens(output:list, test_data_loader: DataLoader):\n",
    "    \"\"\"Map list of token ids to list of corresponding words/tokens\n",
    "       using the vocabulary dictionary idx2word. \n",
    "\n",
    "    :param output: list of predicted token ids\n",
    "    :type output: list\n",
    "    :return: list of tokens\n",
    "    :rtype: list\n",
    "    \"\"\"\n",
    "    words_sequence = []\n",
    "    \n",
    "    for i in output:\n",
    "        if (i == 1):\n",
    "            continue\n",
    "        words_sequence.append(test_data_loader.dataset.vocab.idx2word[i])\n",
    "    \n",
    "    # words_sequence = words_sequence[1:-1] \n",
    "    sentence = ' '.join(words_sequence) \n",
    "    # sentence = sentence.capitalize()\n",
    "    \n",
    "    return sentence\n",
    "\n",
    "def main():\n",
    "\n",
    "    transform_test = transforms.Compose([transforms.Resize(256),\n",
    "                                        transforms.CenterCrop(224),\n",
    "                                        transforms.ToTensor(),\n",
    "                                        transforms.Normalize((0.485, 0.456, 0.406),\n",
    "                                                            (0.229, 0.224, 0.225))\n",
    "                                        ])\n",
    "\n",
    "    config = Config(\"config.yaml\")\n",
    "\n",
    "    device = torch.device(\"cuda\" if torch.cuda.is_available() else \"cpu\")\n",
    "    \n",
    "    test_data_loader = get_data_loader(transform=transform_test,\n",
    "                                   caption_file=config.CAPTION_FILE,\n",
    "                                   image_id_file=config.IMAGE_ID_FILE_TEST, \n",
    "                                   image_folder=config.IMAGE_DATA_DIR, \n",
    "                                   config=config,\n",
    "                                   mode='test')\n",
    "\n",
    "    # TODO #2: Specify the saved models to load.\n",
    "    encoder_file = f\"{config.MODEL_DIR}encoder-10.pkl\"\n",
    "    decoder_file = f\"{config.MODEL_DIR}decoder-10.pkl\"\n",
    "    \n",
    "    assert os.path.exists(encoder_file), f\"Encoder model: '{encoder_file}' doesn't not exist.\"\n",
    "    assert os.path.exists(decoder_file), f\"Decoder model: '{decoder_file}' doesn't not exist.\"\n",
    "\n",
    "    # TODO #3: Select appropriate values for the Python variables below.\n",
    "    embed_size = config.IMG_EMBED_SIZE\n",
    "    hidden_size = config.HIDDEN_SIZE\n",
    "    vocab_size = len(test_data_loader.dataset.vocab)\n",
    "\n",
    "    # Initialize the encoder and decoder, and set each to inference mode.\n",
    "    encoder = EncoderCNN(embed_size)\n",
    "    encoder.eval()\n",
    "\n",
    "    decoder = DecoderRNN(embed_size, hidden_size, vocab_size)\n",
    "    decoder.eval()\n",
    "\n",
    "    # Load the trained weights.\n",
    "    # map location helps in save and load accross devices (gpu/cpu)\n",
    "    #torch.load('my_file.pt', map_location=lambda storage, loc: storage)\n",
    "    encoder.load_state_dict(torch.load(encoder_file, map_location=lambda storage, loc: storage), strict=False)\n",
    "    decoder.load_state_dict(torch.load(decoder_file, map_location=lambda storage, loc: storage), strict=False)\n",
    "    print(\"Model loaded...\")\n",
    "\n",
    "    # Move models to GPU if CUDA is available.\n",
    "    encoder.to(device)\n",
    "    decoder.to(device)\n",
    "    \n",
    "    test_image_file = \"asset/test_image/man_run.png\"\n",
    "    # test_image_file = \"data/test_images/3234115903_f4dfc8fc75.jpg\"\n",
    "    # test_image_file = \"../data/test_images/241347760_d44c8d3a01.jpg\"\n",
    "    pred_caption = predict_image_caption(test_image_file, \n",
    "                                         transform_image=transform_test, \n",
    "                                         test_data_loader=test_data_loader,\n",
    "                                         model_encoder=encoder, \n",
    "                                         model_decoder=decoder, \n",
    "                                         device=device)\n",
    "    \n",
    "    print(f\"Predicted caption: {pred_caption}\")"
   ]
  },
  {
   "cell_type": "code",
   "execution_count": 19,
   "metadata": {},
   "outputs": [
    {
     "name": "stdout",
     "output_type": "stream",
     "text": [
      "Vocabulary successfully loaded from external file output/vocab.pkl...\n"
     ]
    },
    {
     "ename": "RuntimeError",
     "evalue": "Error(s) in loading state_dict for DecoderRNN:\n\tsize mismatch for embedding_layer.weight: copying a param with shape torch.Size([777, 300]) from checkpoint, the shape in current model is torch.Size([2549, 300]).\n\tsize mismatch for linear.weight: copying a param with shape torch.Size([777, 512]) from checkpoint, the shape in current model is torch.Size([2549, 512]).\n\tsize mismatch for linear.bias: copying a param with shape torch.Size([777]) from checkpoint, the shape in current model is torch.Size([2549]).",
     "output_type": "error",
     "traceback": [
      "\u001b[0;31m---------------------------------------------------------------------------\u001b[0m",
      "\u001b[0;31mRuntimeError\u001b[0m                              Traceback (most recent call last)",
      "\u001b[0;32m<ipython-input-19-263240bbee7e>\u001b[0m in \u001b[0;36m<module>\u001b[0;34m\u001b[0m\n\u001b[0;32m----> 1\u001b[0;31m \u001b[0mmain\u001b[0m\u001b[0;34m(\u001b[0m\u001b[0;34m)\u001b[0m\u001b[0;34m\u001b[0m\u001b[0;34m\u001b[0m\u001b[0m\n\u001b[0m",
      "\u001b[0;32m<ipython-input-18-62c3ca46dd2a>\u001b[0m in \u001b[0;36mmain\u001b[0;34m()\u001b[0m\n\u001b[1;32m     82\u001b[0m     \u001b[0;31m#torch.load('my_file.pt', map_location=lambda storage, loc: storage)\u001b[0m\u001b[0;34m\u001b[0m\u001b[0;34m\u001b[0m\u001b[0;34m\u001b[0m\u001b[0m\n\u001b[1;32m     83\u001b[0m     \u001b[0mencoder\u001b[0m\u001b[0;34m.\u001b[0m\u001b[0mload_state_dict\u001b[0m\u001b[0;34m(\u001b[0m\u001b[0mtorch\u001b[0m\u001b[0;34m.\u001b[0m\u001b[0mload\u001b[0m\u001b[0;34m(\u001b[0m\u001b[0mencoder_file\u001b[0m\u001b[0;34m,\u001b[0m \u001b[0mmap_location\u001b[0m\u001b[0;34m=\u001b[0m\u001b[0;32mlambda\u001b[0m \u001b[0mstorage\u001b[0m\u001b[0;34m,\u001b[0m \u001b[0mloc\u001b[0m\u001b[0;34m:\u001b[0m \u001b[0mstorage\u001b[0m\u001b[0;34m)\u001b[0m\u001b[0;34m,\u001b[0m \u001b[0mstrict\u001b[0m\u001b[0;34m=\u001b[0m\u001b[0;32mFalse\u001b[0m\u001b[0;34m)\u001b[0m\u001b[0;34m\u001b[0m\u001b[0;34m\u001b[0m\u001b[0m\n\u001b[0;32m---> 84\u001b[0;31m     \u001b[0mdecoder\u001b[0m\u001b[0;34m.\u001b[0m\u001b[0mload_state_dict\u001b[0m\u001b[0;34m(\u001b[0m\u001b[0mtorch\u001b[0m\u001b[0;34m.\u001b[0m\u001b[0mload\u001b[0m\u001b[0;34m(\u001b[0m\u001b[0mdecoder_file\u001b[0m\u001b[0;34m,\u001b[0m \u001b[0mmap_location\u001b[0m\u001b[0;34m=\u001b[0m\u001b[0;32mlambda\u001b[0m \u001b[0mstorage\u001b[0m\u001b[0;34m,\u001b[0m \u001b[0mloc\u001b[0m\u001b[0;34m:\u001b[0m \u001b[0mstorage\u001b[0m\u001b[0;34m)\u001b[0m\u001b[0;34m,\u001b[0m \u001b[0mstrict\u001b[0m\u001b[0;34m=\u001b[0m\u001b[0;32mFalse\u001b[0m\u001b[0;34m)\u001b[0m\u001b[0;34m\u001b[0m\u001b[0;34m\u001b[0m\u001b[0m\n\u001b[0m\u001b[1;32m     85\u001b[0m     \u001b[0mprint\u001b[0m\u001b[0;34m(\u001b[0m\u001b[0;34m\"Model loaded...\"\u001b[0m\u001b[0;34m)\u001b[0m\u001b[0;34m\u001b[0m\u001b[0;34m\u001b[0m\u001b[0m\n\u001b[1;32m     86\u001b[0m \u001b[0;34m\u001b[0m\u001b[0m\n",
      "\u001b[0;32m~/miniconda3/envs/py36/lib/python3.6/site-packages/torch/nn/modules/module.py\u001b[0m in \u001b[0;36mload_state_dict\u001b[0;34m(self, state_dict, strict)\u001b[0m\n\u001b[1;32m    845\u001b[0m         \u001b[0;32mif\u001b[0m \u001b[0mlen\u001b[0m\u001b[0;34m(\u001b[0m\u001b[0merror_msgs\u001b[0m\u001b[0;34m)\u001b[0m \u001b[0;34m>\u001b[0m \u001b[0;36m0\u001b[0m\u001b[0;34m:\u001b[0m\u001b[0;34m\u001b[0m\u001b[0;34m\u001b[0m\u001b[0m\n\u001b[1;32m    846\u001b[0m             raise RuntimeError('Error(s) in loading state_dict for {}:\\n\\t{}'.format(\n\u001b[0;32m--> 847\u001b[0;31m                                self.__class__.__name__, \"\\n\\t\".join(error_msgs)))\n\u001b[0m\u001b[1;32m    848\u001b[0m         \u001b[0;32mreturn\u001b[0m \u001b[0m_IncompatibleKeys\u001b[0m\u001b[0;34m(\u001b[0m\u001b[0mmissing_keys\u001b[0m\u001b[0;34m,\u001b[0m \u001b[0munexpected_keys\u001b[0m\u001b[0;34m)\u001b[0m\u001b[0;34m\u001b[0m\u001b[0;34m\u001b[0m\u001b[0m\n\u001b[1;32m    849\u001b[0m \u001b[0;34m\u001b[0m\u001b[0m\n",
      "\u001b[0;31mRuntimeError\u001b[0m: Error(s) in loading state_dict for DecoderRNN:\n\tsize mismatch for embedding_layer.weight: copying a param with shape torch.Size([777, 300]) from checkpoint, the shape in current model is torch.Size([2549, 300]).\n\tsize mismatch for linear.weight: copying a param with shape torch.Size([777, 512]) from checkpoint, the shape in current model is torch.Size([2549, 512]).\n\tsize mismatch for linear.bias: copying a param with shape torch.Size([777]) from checkpoint, the shape in current model is torch.Size([2549])."
     ]
    }
   ],
   "source": [
    "    \n",
    "main()"
   ]
  },
  {
   "cell_type": "markdown",
   "metadata": {},
   "source": [
    "# Pick random test image"
   ]
  },
  {
   "cell_type": "code",
   "execution_count": 36,
   "metadata": {},
   "outputs": [],
   "source": [
    "from src.utils import get_training_data\n",
    "import numpy as np\n",
    "import shutil"
   ]
  },
  {
   "cell_type": "code",
   "execution_count": 21,
   "metadata": {},
   "outputs": [
    {
     "name": "stderr",
     "output_type": "stream",
     "text": [
      "/home/sankarshan/Documents/code/image_captioning/src/utils.py:11: YAMLLoadWarning: calling yaml.load() without Loader=... is deprecated, as the default Loader is unsafe. Please read https://msg.pyyaml.org/load for full details.\n",
      "  config = yaml.load(f,) #Loader=yaml.FullLoader\n"
     ]
    }
   ],
   "source": [
    "config = Config(\"config.yaml\")"
   ]
  },
  {
   "cell_type": "code",
   "execution_count": 22,
   "metadata": {},
   "outputs": [],
   "source": [
    "df = get_training_data(config.IMAGE_ID_FILE_TEST, config.CAPTION_FILE)"
   ]
  },
  {
   "cell_type": "code",
   "execution_count": 50,
   "metadata": {},
   "outputs": [],
   "source": [
    "def pick_random_test_image(df):\n",
    "    idx = np.random.randint(low=0, high=len(df))\n",
    "    image_id = df.iloc[idx][\"IMAGE_ID\"]\n",
    "    caption = df.iloc[idx][\"CAPTION\"]\n",
    "    return image_id, caption\n",
    "\n",
    "\n",
    "def copy_file_to_correct_folder(image_id: str):\n",
    "    file_src_path = f\"{config.IMAGE_DATA_DIR}{image_id}\"\n",
    "    file_destination_path = f\"asset/test_image/{image_id}\"\n",
    "    shutil.copy(file_src_path, file_destination_path)"
   ]
  },
  {
   "cell_type": "code",
   "execution_count": 51,
   "metadata": {},
   "outputs": [],
   "source": [
    "image_id, caption = pick_random_test_image(df)"
   ]
  },
  {
   "cell_type": "code",
   "execution_count": 52,
   "metadata": {},
   "outputs": [],
   "source": [
    "copy_file_to_correct_folder(image_id)"
   ]
  },
  {
   "cell_type": "code",
   "execution_count": 53,
   "metadata": {},
   "outputs": [
    {
     "data": {
      "text/plain": [
       "'An elderly woman rides a bicycle along a city street .'"
      ]
     },
     "execution_count": 53,
     "metadata": {},
     "output_type": "execute_result"
    }
   ],
   "source": [
    "caption"
   ]
  },
  {
   "cell_type": "markdown",
   "metadata": {},
   "source": [
    "# TODO:\n",
    "\n",
    "- [ ] Pick random 10-20 test image and available `ground truth` caption.\n",
    "- [ ] Generate prediction and create a simple table:\n",
    "        IMAGE_ID | TRUE_CAPTION | PRED_CAPTION"
   ]
  },
  {
   "cell_type": "code",
   "execution_count": null,
   "metadata": {},
   "outputs": [],
   "source": []
  }
 ],
 "metadata": {
  "kernelspec": {
   "display_name": "Python (py36)",
   "language": "python",
   "name": "py36"
  },
  "language_info": {
   "codemirror_mode": {
    "name": "ipython",
    "version": 3
   },
   "file_extension": ".py",
   "mimetype": "text/x-python",
   "name": "python",
   "nbconvert_exporter": "python",
   "pygments_lexer": "ipython3",
   "version": "3.6.9"
  }
 },
 "nbformat": 4,
 "nbformat_minor": 4
}
